{
  "cells": [
    {
      "source": [
        "# Data Analyst Associate Practical Exam Submission\n",
        "\n",
        "**You can use any tool that you want to do your analysis and create visualizations. Use this template to write up your summary for submission.**\n",
        "\n",
        "You can use any markdown formatting you wish. If you are not familiar with Markdown, read the [Markdown Guide](https://s3.amazonaws.com/talent-assets.datacamp.com/Markdown+Guide.pdf) before you start.\n",
        "\n"
      ],
      "metadata": {
        "tags": [],
        "id": "a5b3bc0e-b993-4ee3-bd07-825a474bd0d9"
      },
      "id": "a5b3bc0e-b993-4ee3-bd07-825a474bd0d9",
      "cell_type": "markdown"
    },
    {
      "source": [
        "## Task 1\n",
        "\n"
      ],
      "metadata": {
        "jp-MarkdownHeadingCollapsed": true,
        "tags": [],
        "id": "d1b1a012-1ccb-40e7-a1ad-77b60b256690"
      },
      "id": "d1b1a012-1ccb-40e7-a1ad-77b60b256690",
      "cell_type": "markdown"
    },
    {
      "source": [
        "1. For every column in the data:\n",
        "\n",
        "a. State whether the values match the description given in the table above.\n",
        "\n",
        "b. State the number of missing values in the column.\n",
        "\n",
        "c. Describe what you did to make values match the description if they did not\n",
        "match.\n"
      ],
      "metadata": {
        "id": "01bf88ec-95d8-4d7b-8368-f98630e5555c"
      },
      "cell_type": "markdown",
      "id": "01bf88ec-95d8-4d7b-8368-f98630e5555c"
    },
    {
      "source": [
        "### Data Validation"
      ],
      "metadata": {
        "id": "4afd137f-618e-4bc2-92ff-0b7807c6d7bb"
      },
      "cell_type": "markdown",
      "id": "4afd137f-618e-4bc2-92ff-0b7807c6d7bb"
    },
    {
      "source": [
        "import pandas as pd\n",
        "import matplotlib.pyplot as plt\n",
        "import seaborn as sns"
      ],
      "metadata": {
        "executionTime": 138,
        "lastSuccessfullyExecutedCode": "import pandas as pd\nimport matplotlib.pyplot as plt\nimport seaborn as sns",
        "id": "4b2ff3c7-470e-4043-853e-475f14dd6941"
      },
      "cell_type": "code",
      "id": "4b2ff3c7-470e-4043-853e-475f14dd6941",
      "execution_count": null,
      "outputs": []
    },
    {
      "source": [
        "df = pd.read_csv(\"food_claims_2212.csv\")\n",
        "pd.set_option('display.max_columns', None)\n",
        "print(df.head(15))"
      ],
      "metadata": {
        "executionTime": 64,
        "lastSuccessfullyExecutedCode": "df = pd.read_csv(\"food_claims_2212.csv\")\npd.set_option('display.max_columns', None)\nprint(df.head(15))",
        "colab": {
          "base_uri": "https://localhost:8080/"
        },
        "id": "c9352530-caa1-445a-8761-d7d4a5578750",
        "outputId": "6e6d7e65-f069-4a2f-e55a-adbd8a104657"
      },
      "cell_type": "code",
      "id": "c9352530-caa1-445a-8761-d7d4a5578750",
      "execution_count": null,
      "outputs": [
        {
          "output_type": "stream",
          "name": "stdout",
          "text": [
            "    claim_id  time_to_close claim_amount  amount_paid   location  \\\n",
            "0          1            317  R$ 74474.55     51231.37     RECIFE   \n",
            "1          2            195  R$ 52137.83     42111.30  FORTALEZA   \n",
            "2          3            183   R$ 24447.2     23986.30   SAO LUIS   \n",
            "3          4            186  R$ 29006.28     27942.72  FORTALEZA   \n",
            "4          5            138   R$ 19520.6     16251.06     RECIFE   \n",
            "5          6            183  R$ 47529.14     38011.98      NATAL   \n",
            "6          7            190  R$ 39073.26     29826.04   SAO LUIS   \n",
            "7          8            183  R$ 29870.56     29727.52   SAO LUIS   \n",
            "8          9            149  R$ 26644.46     23362.14     RECIFE   \n",
            "9         10            149  R$ 11544.68      9680.82      NATAL   \n",
            "10        11            180   R$ 31002.6     27110.18   SAO LUIS   \n",
            "11        12            208  R$ 29802.86     26505.06   SAO LUIS   \n",
            "12        13            175  R$ 23831.65     17145.09   SAO LUIS   \n",
            "13        14            223  R$ 42626.53     31053.01     RECIFE   \n",
            "14        15            265  R$ 36210.84     24847.68      NATAL   \n",
            "\n",
            "    individuals_on_claim linked_cases      cause  \n",
            "0                     15        False    unknown  \n",
            "1                     12         True    unknown  \n",
            "2                     10         True       meat  \n",
            "3                     11        False       meat  \n",
            "4                     11        False  vegetable  \n",
            "5                     11        False    unknown  \n",
            "6                     12        False       meat  \n",
            "7                      8         True    unknown  \n",
            "8                      9        False       meat  \n",
            "9                      6        False  vegetable  \n",
            "10                     8        False    unknown  \n",
            "11                     8        False    unknown  \n",
            "12                     7        False       meat  \n",
            "13                    12        False       meat  \n",
            "14                    10        False       meat  \n"
          ]
        }
      ]
    },
    {
      "source": [
        "df.info()"
      ],
      "metadata": {
        "executionTime": 67,
        "lastSuccessfullyExecutedCode": "df.info()",
        "colab": {
          "base_uri": "https://localhost:8080/"
        },
        "id": "35e83b5d-453f-40ff-8bd4-0b5762f66738",
        "outputId": "eb534d15-c56b-4615-a3c9-a6356982c6a5"
      },
      "cell_type": "code",
      "id": "35e83b5d-453f-40ff-8bd4-0b5762f66738",
      "execution_count": null,
      "outputs": [
        {
          "output_type": "stream",
          "name": "stdout",
          "text": [
            "<class 'pandas.core.frame.DataFrame'>\n",
            "RangeIndex: 2000 entries, 0 to 1999\n",
            "Data columns (total 8 columns):\n",
            " #   Column                Non-Null Count  Dtype  \n",
            "---  ------                --------------  -----  \n",
            " 0   claim_id              2000 non-null   int64  \n",
            " 1   time_to_close         2000 non-null   int64  \n",
            " 2   claim_amount          2000 non-null   object \n",
            " 3   amount_paid           1964 non-null   float64\n",
            " 4   location              2000 non-null   object \n",
            " 5   individuals_on_claim  2000 non-null   int64  \n",
            " 6   linked_cases          1974 non-null   object \n",
            " 7   cause                 2000 non-null   object \n",
            "dtypes: float64(1), int64(3), object(4)\n",
            "memory usage: 125.1+ KB\n"
          ]
        }
      ]
    },
    {
      "source": [
        "df.describe()"
      ],
      "metadata": {
        "executionTime": 130,
        "lastSuccessfullyExecutedCode": "df.describe()",
        "colab": {
          "base_uri": "https://localhost:8080/",
          "height": 300
        },
        "id": "89ac886d-9ad0-4e8d-82d4-b5b6f86a5a7e",
        "outputId": "3499ca38-7f8a-4c8c-f810-fbeb0fe4ab1c"
      },
      "cell_type": "code",
      "id": "89ac886d-9ad0-4e8d-82d4-b5b6f86a5a7e",
      "execution_count": null,
      "outputs": [
        {
          "output_type": "execute_result",
          "data": {
            "text/plain": [
              "          claim_id  time_to_close   amount_paid  individuals_on_claim\n",
              "count  2000.000000     2000.00000   1964.000000           2000.000000\n",
              "mean   1000.500000      185.56800  21541.975183              8.049500\n",
              "std     577.494589       49.16339  12530.156509              4.087347\n",
              "min       1.000000       76.00000   1516.720000              1.000000\n",
              "25%     500.750000      158.00000  10995.950000              4.000000\n",
              "50%    1000.500000      179.00000  20105.700000              8.000000\n",
              "75%    1500.250000      204.00000  30709.350000             12.000000\n",
              "max    2000.000000      518.00000  52498.750000             15.000000"
            ],
            "text/html": [
              "\n",
              "  <div id=\"df-7d3045b1-b7a6-47fc-a21e-e364f8596e85\">\n",
              "    <div class=\"colab-df-container\">\n",
              "      <div>\n",
              "<style scoped>\n",
              "    .dataframe tbody tr th:only-of-type {\n",
              "        vertical-align: middle;\n",
              "    }\n",
              "\n",
              "    .dataframe tbody tr th {\n",
              "        vertical-align: top;\n",
              "    }\n",
              "\n",
              "    .dataframe thead th {\n",
              "        text-align: right;\n",
              "    }\n",
              "</style>\n",
              "<table border=\"1\" class=\"dataframe\">\n",
              "  <thead>\n",
              "    <tr style=\"text-align: right;\">\n",
              "      <th></th>\n",
              "      <th>claim_id</th>\n",
              "      <th>time_to_close</th>\n",
              "      <th>amount_paid</th>\n",
              "      <th>individuals_on_claim</th>\n",
              "    </tr>\n",
              "  </thead>\n",
              "  <tbody>\n",
              "    <tr>\n",
              "      <th>count</th>\n",
              "      <td>2000.000000</td>\n",
              "      <td>2000.00000</td>\n",
              "      <td>1964.000000</td>\n",
              "      <td>2000.000000</td>\n",
              "    </tr>\n",
              "    <tr>\n",
              "      <th>mean</th>\n",
              "      <td>1000.500000</td>\n",
              "      <td>185.56800</td>\n",
              "      <td>21541.975183</td>\n",
              "      <td>8.049500</td>\n",
              "    </tr>\n",
              "    <tr>\n",
              "      <th>std</th>\n",
              "      <td>577.494589</td>\n",
              "      <td>49.16339</td>\n",
              "      <td>12530.156509</td>\n",
              "      <td>4.087347</td>\n",
              "    </tr>\n",
              "    <tr>\n",
              "      <th>min</th>\n",
              "      <td>1.000000</td>\n",
              "      <td>76.00000</td>\n",
              "      <td>1516.720000</td>\n",
              "      <td>1.000000</td>\n",
              "    </tr>\n",
              "    <tr>\n",
              "      <th>25%</th>\n",
              "      <td>500.750000</td>\n",
              "      <td>158.00000</td>\n",
              "      <td>10995.950000</td>\n",
              "      <td>4.000000</td>\n",
              "    </tr>\n",
              "    <tr>\n",
              "      <th>50%</th>\n",
              "      <td>1000.500000</td>\n",
              "      <td>179.00000</td>\n",
              "      <td>20105.700000</td>\n",
              "      <td>8.000000</td>\n",
              "    </tr>\n",
              "    <tr>\n",
              "      <th>75%</th>\n",
              "      <td>1500.250000</td>\n",
              "      <td>204.00000</td>\n",
              "      <td>30709.350000</td>\n",
              "      <td>12.000000</td>\n",
              "    </tr>\n",
              "    <tr>\n",
              "      <th>max</th>\n",
              "      <td>2000.000000</td>\n",
              "      <td>518.00000</td>\n",
              "      <td>52498.750000</td>\n",
              "      <td>15.000000</td>\n",
              "    </tr>\n",
              "  </tbody>\n",
              "</table>\n",
              "</div>\n",
              "      <button class=\"colab-df-convert\" onclick=\"convertToInteractive('df-7d3045b1-b7a6-47fc-a21e-e364f8596e85')\"\n",
              "              title=\"Convert this dataframe to an interactive table.\"\n",
              "              style=\"display:none;\">\n",
              "        \n",
              "  <svg xmlns=\"http://www.w3.org/2000/svg\" height=\"24px\"viewBox=\"0 0 24 24\"\n",
              "       width=\"24px\">\n",
              "    <path d=\"M0 0h24v24H0V0z\" fill=\"none\"/>\n",
              "    <path d=\"M18.56 5.44l.94 2.06.94-2.06 2.06-.94-2.06-.94-.94-2.06-.94 2.06-2.06.94zm-11 1L8.5 8.5l.94-2.06 2.06-.94-2.06-.94L8.5 2.5l-.94 2.06-2.06.94zm10 10l.94 2.06.94-2.06 2.06-.94-2.06-.94-.94-2.06-.94 2.06-2.06.94z\"/><path d=\"M17.41 7.96l-1.37-1.37c-.4-.4-.92-.59-1.43-.59-.52 0-1.04.2-1.43.59L10.3 9.45l-7.72 7.72c-.78.78-.78 2.05 0 2.83L4 21.41c.39.39.9.59 1.41.59.51 0 1.02-.2 1.41-.59l7.78-7.78 2.81-2.81c.8-.78.8-2.07 0-2.86zM5.41 20L4 18.59l7.72-7.72 1.47 1.35L5.41 20z\"/>\n",
              "  </svg>\n",
              "      </button>\n",
              "      \n",
              "  <style>\n",
              "    .colab-df-container {\n",
              "      display:flex;\n",
              "      flex-wrap:wrap;\n",
              "      gap: 12px;\n",
              "    }\n",
              "\n",
              "    .colab-df-convert {\n",
              "      background-color: #E8F0FE;\n",
              "      border: none;\n",
              "      border-radius: 50%;\n",
              "      cursor: pointer;\n",
              "      display: none;\n",
              "      fill: #1967D2;\n",
              "      height: 32px;\n",
              "      padding: 0 0 0 0;\n",
              "      width: 32px;\n",
              "    }\n",
              "\n",
              "    .colab-df-convert:hover {\n",
              "      background-color: #E2EBFA;\n",
              "      box-shadow: 0px 1px 2px rgba(60, 64, 67, 0.3), 0px 1px 3px 1px rgba(60, 64, 67, 0.15);\n",
              "      fill: #174EA6;\n",
              "    }\n",
              "\n",
              "    [theme=dark] .colab-df-convert {\n",
              "      background-color: #3B4455;\n",
              "      fill: #D2E3FC;\n",
              "    }\n",
              "\n",
              "    [theme=dark] .colab-df-convert:hover {\n",
              "      background-color: #434B5C;\n",
              "      box-shadow: 0px 1px 3px 1px rgba(0, 0, 0, 0.15);\n",
              "      filter: drop-shadow(0px 1px 2px rgba(0, 0, 0, 0.3));\n",
              "      fill: #FFFFFF;\n",
              "    }\n",
              "  </style>\n",
              "\n",
              "      <script>\n",
              "        const buttonEl =\n",
              "          document.querySelector('#df-7d3045b1-b7a6-47fc-a21e-e364f8596e85 button.colab-df-convert');\n",
              "        buttonEl.style.display =\n",
              "          google.colab.kernel.accessAllowed ? 'block' : 'none';\n",
              "\n",
              "        async function convertToInteractive(key) {\n",
              "          const element = document.querySelector('#df-7d3045b1-b7a6-47fc-a21e-e364f8596e85');\n",
              "          const dataTable =\n",
              "            await google.colab.kernel.invokeFunction('convertToInteractive',\n",
              "                                                     [key], {});\n",
              "          if (!dataTable) return;\n",
              "\n",
              "          const docLinkHtml = 'Like what you see? Visit the ' +\n",
              "            '<a target=\"_blank\" href=https://colab.research.google.com/notebooks/data_table.ipynb>data table notebook</a>'\n",
              "            + ' to learn more about interactive tables.';\n",
              "          element.innerHTML = '';\n",
              "          dataTable['output_type'] = 'display_data';\n",
              "          await google.colab.output.renderOutput(dataTable, element);\n",
              "          const docLink = document.createElement('div');\n",
              "          docLink.innerHTML = docLinkHtml;\n",
              "          element.appendChild(docLink);\n",
              "        }\n",
              "      </script>\n",
              "    </div>\n",
              "  </div>\n",
              "  "
            ]
          },
          "metadata": {},
          "execution_count": 587
        }
      ]
    },
    {
      "cell_type": "markdown",
      "source": [
        "#### claim_id\n",
        "\n",
        "Nominal. The unique identifier of the claim.\n",
        "\n",
        "Missing values are not possible due to the database structure."
      ],
      "metadata": {
        "id": "NPCOLCm3U54D"
      },
      "id": "NPCOLCm3U54D"
    },
    {
      "cell_type": "code",
      "source": [
        "#Unique identifier\n",
        "\n",
        "df['claim_id'].unique()"
      ],
      "metadata": {
        "colab": {
          "base_uri": "https://localhost:8080/"
        },
        "id": "sYPW5BlPV_40",
        "outputId": "a6ed5075-53f2-4ac6-b7fe-bba626ed5b21"
      },
      "id": "sYPW5BlPV_40",
      "execution_count": null,
      "outputs": [
        {
          "output_type": "execute_result",
          "data": {
            "text/plain": [
              "array([   1,    2,    3, ..., 1998, 1999, 2000])"
            ]
          },
          "metadata": {},
          "execution_count": 588
        }
      ]
    },
    {
      "cell_type": "code",
      "source": [
        "#No duplicates\n",
        "\n",
        "duplicates = df[df.duplicated('claim_id')]\n",
        "duplicates"
      ],
      "metadata": {
        "colab": {
          "base_uri": "https://localhost:8080/",
          "height": 50
        },
        "id": "9965mRaSVD0G",
        "outputId": "cbc6447d-1ccb-4ab2-fb38-c2fe43d4025c"
      },
      "id": "9965mRaSVD0G",
      "execution_count": null,
      "outputs": [
        {
          "output_type": "execute_result",
          "data": {
            "text/plain": [
              "Empty DataFrame\n",
              "Columns: [claim_id, time_to_close, claim_amount, amount_paid, location, individuals_on_claim, linked_cases, cause]\n",
              "Index: []"
            ],
            "text/html": [
              "\n",
              "  <div id=\"df-c49d3dd3-f7f9-4eba-a2eb-ea70aa44b101\">\n",
              "    <div class=\"colab-df-container\">\n",
              "      <div>\n",
              "<style scoped>\n",
              "    .dataframe tbody tr th:only-of-type {\n",
              "        vertical-align: middle;\n",
              "    }\n",
              "\n",
              "    .dataframe tbody tr th {\n",
              "        vertical-align: top;\n",
              "    }\n",
              "\n",
              "    .dataframe thead th {\n",
              "        text-align: right;\n",
              "    }\n",
              "</style>\n",
              "<table border=\"1\" class=\"dataframe\">\n",
              "  <thead>\n",
              "    <tr style=\"text-align: right;\">\n",
              "      <th></th>\n",
              "      <th>claim_id</th>\n",
              "      <th>time_to_close</th>\n",
              "      <th>claim_amount</th>\n",
              "      <th>amount_paid</th>\n",
              "      <th>location</th>\n",
              "      <th>individuals_on_claim</th>\n",
              "      <th>linked_cases</th>\n",
              "      <th>cause</th>\n",
              "    </tr>\n",
              "  </thead>\n",
              "  <tbody>\n",
              "  </tbody>\n",
              "</table>\n",
              "</div>\n",
              "      <button class=\"colab-df-convert\" onclick=\"convertToInteractive('df-c49d3dd3-f7f9-4eba-a2eb-ea70aa44b101')\"\n",
              "              title=\"Convert this dataframe to an interactive table.\"\n",
              "              style=\"display:none;\">\n",
              "        \n",
              "  <svg xmlns=\"http://www.w3.org/2000/svg\" height=\"24px\"viewBox=\"0 0 24 24\"\n",
              "       width=\"24px\">\n",
              "    <path d=\"M0 0h24v24H0V0z\" fill=\"none\"/>\n",
              "    <path d=\"M18.56 5.44l.94 2.06.94-2.06 2.06-.94-2.06-.94-.94-2.06-.94 2.06-2.06.94zm-11 1L8.5 8.5l.94-2.06 2.06-.94-2.06-.94L8.5 2.5l-.94 2.06-2.06.94zm10 10l.94 2.06.94-2.06 2.06-.94-2.06-.94-.94-2.06-.94 2.06-2.06.94z\"/><path d=\"M17.41 7.96l-1.37-1.37c-.4-.4-.92-.59-1.43-.59-.52 0-1.04.2-1.43.59L10.3 9.45l-7.72 7.72c-.78.78-.78 2.05 0 2.83L4 21.41c.39.39.9.59 1.41.59.51 0 1.02-.2 1.41-.59l7.78-7.78 2.81-2.81c.8-.78.8-2.07 0-2.86zM5.41 20L4 18.59l7.72-7.72 1.47 1.35L5.41 20z\"/>\n",
              "  </svg>\n",
              "      </button>\n",
              "      \n",
              "  <style>\n",
              "    .colab-df-container {\n",
              "      display:flex;\n",
              "      flex-wrap:wrap;\n",
              "      gap: 12px;\n",
              "    }\n",
              "\n",
              "    .colab-df-convert {\n",
              "      background-color: #E8F0FE;\n",
              "      border: none;\n",
              "      border-radius: 50%;\n",
              "      cursor: pointer;\n",
              "      display: none;\n",
              "      fill: #1967D2;\n",
              "      height: 32px;\n",
              "      padding: 0 0 0 0;\n",
              "      width: 32px;\n",
              "    }\n",
              "\n",
              "    .colab-df-convert:hover {\n",
              "      background-color: #E2EBFA;\n",
              "      box-shadow: 0px 1px 2px rgba(60, 64, 67, 0.3), 0px 1px 3px 1px rgba(60, 64, 67, 0.15);\n",
              "      fill: #174EA6;\n",
              "    }\n",
              "\n",
              "    [theme=dark] .colab-df-convert {\n",
              "      background-color: #3B4455;\n",
              "      fill: #D2E3FC;\n",
              "    }\n",
              "\n",
              "    [theme=dark] .colab-df-convert:hover {\n",
              "      background-color: #434B5C;\n",
              "      box-shadow: 0px 1px 3px 1px rgba(0, 0, 0, 0.15);\n",
              "      filter: drop-shadow(0px 1px 2px rgba(0, 0, 0, 0.3));\n",
              "      fill: #FFFFFF;\n",
              "    }\n",
              "  </style>\n",
              "\n",
              "      <script>\n",
              "        const buttonEl =\n",
              "          document.querySelector('#df-c49d3dd3-f7f9-4eba-a2eb-ea70aa44b101 button.colab-df-convert');\n",
              "        buttonEl.style.display =\n",
              "          google.colab.kernel.accessAllowed ? 'block' : 'none';\n",
              "\n",
              "        async function convertToInteractive(key) {\n",
              "          const element = document.querySelector('#df-c49d3dd3-f7f9-4eba-a2eb-ea70aa44b101');\n",
              "          const dataTable =\n",
              "            await google.colab.kernel.invokeFunction('convertToInteractive',\n",
              "                                                     [key], {});\n",
              "          if (!dataTable) return;\n",
              "\n",
              "          const docLinkHtml = 'Like what you see? Visit the ' +\n",
              "            '<a target=\"_blank\" href=https://colab.research.google.com/notebooks/data_table.ipynb>data table notebook</a>'\n",
              "            + ' to learn more about interactive tables.';\n",
              "          element.innerHTML = '';\n",
              "          dataTable['output_type'] = 'display_data';\n",
              "          await google.colab.output.renderOutput(dataTable, element);\n",
              "          const docLink = document.createElement('div');\n",
              "          docLink.innerHTML = docLinkHtml;\n",
              "          element.appendChild(docLink);\n",
              "        }\n",
              "      </script>\n",
              "    </div>\n",
              "  </div>\n",
              "  "
            ]
          },
          "metadata": {},
          "execution_count": 589
        }
      ]
    },
    {
      "cell_type": "code",
      "source": [
        "#No missing values\n",
        "\n",
        "df['claim_id'].isnull().sum()"
      ],
      "metadata": {
        "colab": {
          "base_uri": "https://localhost:8080/"
        },
        "id": "1-ljn6BQWWDS",
        "outputId": "298cfba5-d7b8-4567-bf30-d58dbf4dde7f"
      },
      "id": "1-ljn6BQWWDS",
      "execution_count": null,
      "outputs": [
        {
          "output_type": "execute_result",
          "data": {
            "text/plain": [
              "0"
            ]
          },
          "metadata": {},
          "execution_count": 590
        }
      ]
    },
    {
      "cell_type": "markdown",
      "source": [
        "#### time_to_close\n",
        "\n",
        "Discrete. The number of days to close the claim. Any positive value.\n",
        "\n",
        "\n",
        "Replace missing values with the overall median time to close."
      ],
      "metadata": {
        "id": "qMtIERuJWS9j"
      },
      "id": "qMtIERuJWS9j"
    },
    {
      "cell_type": "code",
      "source": [
        "#Any positive value\n",
        "\n",
        "positive_values_only = (df['time_to_close'] > 0).all()\n",
        "\n",
        "if positive_values_only:\n",
        "    print(\"positive_values_only\")\n",
        "else:\n",
        "    print(\"No_positive_values_only\")"
      ],
      "metadata": {
        "colab": {
          "base_uri": "https://localhost:8080/"
        },
        "id": "qumLd47KWzX0",
        "outputId": "ce82e593-de74-4773-bcf7-44c5a7f0bafc"
      },
      "id": "qumLd47KWzX0",
      "execution_count": null,
      "outputs": [
        {
          "output_type": "stream",
          "name": "stdout",
          "text": [
            "positive_values_only\n"
          ]
        }
      ]
    },
    {
      "cell_type": "code",
      "source": [
        "# No missing values\n",
        "\n",
        "df['time_to_close'].isnull().sum()"
      ],
      "metadata": {
        "colab": {
          "base_uri": "https://localhost:8080/"
        },
        "id": "0PlFSTjudZ98",
        "outputId": "0753a4c7-5fc9-4981-9801-fd08a0f3248b"
      },
      "id": "0PlFSTjudZ98",
      "execution_count": null,
      "outputs": [
        {
          "output_type": "execute_result",
          "data": {
            "text/plain": [
              "0"
            ]
          },
          "metadata": {},
          "execution_count": 592
        }
      ]
    },
    {
      "cell_type": "markdown",
      "source": [
        "#### claim_amount\n",
        "\n",
        "Continuous. The initial claim requested in the currency of Brazil, rounded to 2 decimal places.\n",
        "\n",
        "Replace missing values with the overall median claim amount"
      ],
      "metadata": {
        "id": "arese3DOWTEw"
      },
      "id": "arese3DOWTEw"
    },
    {
      "cell_type": "code",
      "source": [
        "#Deleting the symbol R$\n",
        "df['claim_amount'] = df['claim_amount'].str[2:]\n",
        "df['claim_amount']"
      ],
      "metadata": {
        "colab": {
          "base_uri": "https://localhost:8080/"
        },
        "id": "WV0zqvNRhRgj",
        "outputId": "73947ae4-632a-47e4-fa3d-7f6d92eae096"
      },
      "id": "WV0zqvNRhRgj",
      "execution_count": null,
      "outputs": [
        {
          "output_type": "execute_result",
          "data": {
            "text/plain": [
              "0        74474.55\n",
              "1        52137.83\n",
              "2         24447.2\n",
              "3        29006.28\n",
              "4         19520.6\n",
              "          ...    \n",
              "1995      28982.3\n",
              "1996      5188.44\n",
              "1997     11975.85\n",
              "1998     23516.28\n",
              "1999       8051.4\n",
              "Name: claim_amount, Length: 2000, dtype: object"
            ]
          },
          "metadata": {},
          "execution_count": 593
        }
      ]
    },
    {
      "cell_type": "code",
      "source": [
        "#Rounded to 2 decimal places\n",
        "\n",
        "df['claim_amount'] = df['claim_amount'].astype(float)\n",
        "\n",
        "df['claim_amount'] = df['claim_amount'].round(2)\n",
        "\n",
        "df['claim_amount']"
      ],
      "metadata": {
        "colab": {
          "base_uri": "https://localhost:8080/"
        },
        "id": "VU8kE0CIfHpL",
        "outputId": "ef22395e-37cb-452c-e8be-1d966655c245"
      },
      "id": "VU8kE0CIfHpL",
      "execution_count": null,
      "outputs": [
        {
          "output_type": "execute_result",
          "data": {
            "text/plain": [
              "0       74474.55\n",
              "1       52137.83\n",
              "2       24447.20\n",
              "3       29006.28\n",
              "4       19520.60\n",
              "          ...   \n",
              "1995    28982.30\n",
              "1996     5188.44\n",
              "1997    11975.85\n",
              "1998    23516.28\n",
              "1999     8051.40\n",
              "Name: claim_amount, Length: 2000, dtype: float64"
            ]
          },
          "metadata": {},
          "execution_count": 594
        }
      ]
    },
    {
      "cell_type": "code",
      "source": [
        "# No missing values\n",
        "\n",
        "df['claim_amount'].isnull().sum()"
      ],
      "metadata": {
        "colab": {
          "base_uri": "https://localhost:8080/"
        },
        "id": "XzTAl9G2fHwd",
        "outputId": "544dad58-ae1f-4502-b4a5-5d6cd9e83ffa"
      },
      "id": "XzTAl9G2fHwd",
      "execution_count": null,
      "outputs": [
        {
          "output_type": "execute_result",
          "data": {
            "text/plain": [
              "0"
            ]
          },
          "metadata": {},
          "execution_count": 595
        }
      ]
    },
    {
      "cell_type": "markdown",
      "source": [
        "#### amount_paid\n",
        "\n",
        "Continuous. Final amount paid. In the currency of Brazil. Rounded to 2 decimal places.\n",
        "\n",
        "\n",
        "Replace missing values with the overall median amount paid"
      ],
      "metadata": {
        "id": "KWG4vbbLWTH8"
      },
      "id": "KWG4vbbLWTH8"
    },
    {
      "cell_type": "code",
      "source": [
        "#Rounded to 2 decimal places\n",
        "\n",
        "df['amount_paid'] = df['amount_paid'].astype(float)\n",
        "\n",
        "df['amount_paid'] = df['amount_paid'].round(2)\n",
        "\n",
        "df['amount_paid']"
      ],
      "metadata": {
        "colab": {
          "base_uri": "https://localhost:8080/"
        },
        "id": "powoolRCjmJh",
        "outputId": "e5af0136-4e13-40ad-f194-65ae91da0b07"
      },
      "id": "powoolRCjmJh",
      "execution_count": null,
      "outputs": [
        {
          "output_type": "execute_result",
          "data": {
            "text/plain": [
              "0       51231.37\n",
              "1       42111.30\n",
              "2       23986.30\n",
              "3       27942.72\n",
              "4       16251.06\n",
              "          ...   \n",
              "1995    24265.02\n",
              "1996     4772.77\n",
              "1997    10087.81\n",
              "1998    23310.24\n",
              "1999     6417.92\n",
              "Name: amount_paid, Length: 2000, dtype: float64"
            ]
          },
          "metadata": {},
          "execution_count": 596
        }
      ]
    },
    {
      "cell_type": "code",
      "source": [
        "# Missing values\n",
        "\n",
        "df['amount_paid'].isnull().sum()"
      ],
      "metadata": {
        "colab": {
          "base_uri": "https://localhost:8080/"
        },
        "id": "SwvkezoIjmRN",
        "outputId": "c6568a76-3a19-46d2-9b90-2474039fa359"
      },
      "id": "SwvkezoIjmRN",
      "execution_count": null,
      "outputs": [
        {
          "output_type": "execute_result",
          "data": {
            "text/plain": [
              "36"
            ]
          },
          "metadata": {},
          "execution_count": 597
        }
      ]
    },
    {
      "cell_type": "code",
      "source": [
        "#Replace missing valies with the overall median\n",
        "\n",
        "df['amount_paid'].fillna(df['amount_paid'].median(), inplace=True)\n",
        "\n",
        "#No missing values\n",
        "\n",
        "df['amount_paid'].isnull().sum()"
      ],
      "metadata": {
        "colab": {
          "base_uri": "https://localhost:8080/"
        },
        "id": "NPdkp_OEkDWx",
        "outputId": "43ca6c40-b74a-4666-ff8f-2b068d2ca57b"
      },
      "id": "NPdkp_OEkDWx",
      "execution_count": null,
      "outputs": [
        {
          "output_type": "execute_result",
          "data": {
            "text/plain": [
              "0"
            ]
          },
          "metadata": {},
          "execution_count": 598
        }
      ]
    },
    {
      "cell_type": "markdown",
      "source": [
        "#### location\n",
        "\n",
        "Nominal. Location of the claim, one of “RECIFE”, “SAO LUIS”,“FORTALEZA”, or“NATAL”.\n",
        "\n",
        "\n",
        "Remove missing values."
      ],
      "metadata": {
        "id": "ojoABFIykh-P"
      },
      "id": "ojoABFIykh-P"
    },
    {
      "cell_type": "code",
      "source": [
        "#Only 4 locations\n",
        "\n",
        "df['location'].unique()"
      ],
      "metadata": {
        "colab": {
          "base_uri": "https://localhost:8080/"
        },
        "id": "yNkFUcYKkk2K",
        "outputId": "8cc79c8e-5dea-4ecb-e718-d692e4e6ab4d"
      },
      "id": "yNkFUcYKkk2K",
      "execution_count": null,
      "outputs": [
        {
          "output_type": "execute_result",
          "data": {
            "text/plain": [
              "array(['RECIFE', 'FORTALEZA', 'SAO LUIS', 'NATAL'], dtype=object)"
            ]
          },
          "metadata": {},
          "execution_count": 599
        }
      ]
    },
    {
      "cell_type": "code",
      "source": [
        "sns.countplot(x='location', data=df)\n",
        "plt.show()"
      ],
      "metadata": {
        "colab": {
          "base_uri": "https://localhost:8080/",
          "height": 449
        },
        "id": "LSz94LQLlN9b",
        "outputId": "6dd5a0e6-fbb9-4d95-bf37-e0393f180a1b"
      },
      "id": "LSz94LQLlN9b",
      "execution_count": null,
      "outputs": [
        {
          "output_type": "display_data",
          "data": {
            "text/plain": [
              "<Figure size 640x480 with 1 Axes>"
            ],
            "image/png": "[encoded data removed]"
          },
          "metadata": {}
        }
      ]
    },
    {
      "cell_type": "code",
      "source": [
        "#No missing values\n",
        "\n",
        "df['location'].isnull().sum()\n"
      ],
      "metadata": {
        "colab": {
          "base_uri": "https://localhost:8080/"
        },
        "id": "eTH9_AoaklHB",
        "outputId": "850f1a00-0153-4a0a-c0b5-a68d5d378492"
      },
      "id": "eTH9_AoaklHB",
      "execution_count": null,
      "outputs": [
        {
          "output_type": "execute_result",
          "data": {
            "text/plain": [
              "0"
            ]
          },
          "metadata": {},
          "execution_count": 601
        }
      ]
    },
    {
      "cell_type": "markdown",
      "source": [
        "#### individuals_on_claim\n",
        "\n",
        "Discrete. Number of individuals on this claim. Minimum 1 person.\n",
        "\n",
        "\n",
        "Replace missing value with 0.\n"
      ],
      "metadata": {
        "id": "ZG2U1c2fkiwv"
      },
      "id": "ZG2U1c2fkiwv"
    },
    {
      "cell_type": "code",
      "source": [
        "#No less than 0 values\n",
        "\n",
        "df['individuals_on_claim'].unique()"
      ],
      "metadata": {
        "colab": {
          "base_uri": "https://localhost:8080/"
        },
        "id": "Z4VKtRU9l6W7",
        "outputId": "f58db23d-5fdc-4e00-ec89-8c6b16188cd4"
      },
      "id": "Z4VKtRU9l6W7",
      "execution_count": null,
      "outputs": [
        {
          "output_type": "execute_result",
          "data": {
            "text/plain": [
              "array([15, 12, 10, 11,  8,  9,  6,  7, 13,  4,  2,  3, 14,  5,  1])"
            ]
          },
          "metadata": {},
          "execution_count": 602
        }
      ]
    },
    {
      "cell_type": "code",
      "source": [
        "#Minimum 1 person\n",
        "\n",
        "sns.countplot(x='individuals_on_claim', data=df)\n",
        "plt.show()"
      ],
      "metadata": {
        "colab": {
          "base_uri": "https://localhost:8080/",
          "height": 450
        },
        "id": "PmB0QQN8l6iT",
        "outputId": "53cf902e-f3e0-41b8-e7f9-f3e419ab1e39"
      },
      "id": "PmB0QQN8l6iT",
      "execution_count": null,
      "outputs": [
        {
          "output_type": "display_data",
          "data": {
            "text/plain": [
              "<Figure size 640x480 with 1 Axes>"
            ],
            "image/png": "[encoded data removed]"
          },
          "metadata": {}
        }
      ]
    },
    {
      "cell_type": "code",
      "source": [
        "#No missing values\n",
        "\n",
        "df['individuals_on_claim'].isnull().sum()\n"
      ],
      "metadata": {
        "colab": {
          "base_uri": "https://localhost:8080/"
        },
        "id": "rM-qYAvGmP6X",
        "outputId": "b24aca6b-d053-43c2-dca0-587c15758031"
      },
      "id": "rM-qYAvGmP6X",
      "execution_count": null,
      "outputs": [
        {
          "output_type": "execute_result",
          "data": {
            "text/plain": [
              "0"
            ]
          },
          "metadata": {},
          "execution_count": 604
        }
      ]
    },
    {
      "cell_type": "markdown",
      "source": [
        "#### linked_cases\n",
        "\n",
        "Nominal. Whether this claim is linked to other cases. Either TRUE or\n",
        "FALSE.\n",
        "\n",
        "\n",
        "Replace missing values with FALSE."
      ],
      "metadata": {
        "id": "tZz5P8QSkjOK"
      },
      "id": "tZz5P8QSkjOK"
    },
    {
      "cell_type": "code",
      "source": [
        "#Missing values\n",
        "\n",
        "df['linked_cases'].isnull().sum()\n"
      ],
      "metadata": {
        "colab": {
          "base_uri": "https://localhost:8080/"
        },
        "id": "oKYBA3O6p40a",
        "outputId": "c0755df3-94c8-48cf-a1de-db586fa753f2"
      },
      "id": "oKYBA3O6p40a",
      "execution_count": null,
      "outputs": [
        {
          "output_type": "execute_result",
          "data": {
            "text/plain": [
              "26"
            ]
          },
          "metadata": {},
          "execution_count": 605
        }
      ]
    },
    {
      "cell_type": "code",
      "source": [
        "#Replacing missing values with FALSE\n",
        "\n",
        "df['linked_cases'] = df['linked_cases'].fillna(False).astype(bool)"
      ],
      "metadata": {
        "id": "0ycJqtn4p5KR"
      },
      "id": "0ycJqtn4p5KR",
      "execution_count": null,
      "outputs": []
    },
    {
      "cell_type": "code",
      "source": [
        "df['linked_cases'].unique()"
      ],
      "metadata": {
        "colab": {
          "base_uri": "https://localhost:8080/"
        },
        "id": "bSm6Ls9Im8lc",
        "outputId": "b9d08884-f88a-42cb-bac6-3470cfe1a1b7"
      },
      "id": "bSm6Ls9Im8lc",
      "execution_count": null,
      "outputs": [
        {
          "output_type": "execute_result",
          "data": {
            "text/plain": [
              "array([False,  True])"
            ]
          },
          "metadata": {},
          "execution_count": 607
        }
      ]
    },
    {
      "cell_type": "code",
      "source": [
        "#No missing values\n",
        "\n",
        "df['linked_cases'].isnull().sum()"
      ],
      "metadata": {
        "colab": {
          "base_uri": "https://localhost:8080/"
        },
        "id": "na9FsdcYqibX",
        "outputId": "6f838fca-542e-4893-f93e-0eb2d5c3479e"
      },
      "id": "na9FsdcYqibX",
      "execution_count": null,
      "outputs": [
        {
          "output_type": "execute_result",
          "data": {
            "text/plain": [
              "0"
            ]
          },
          "metadata": {},
          "execution_count": 608
        }
      ]
    },
    {
      "cell_type": "markdown",
      "source": [
        "#### cause\n",
        "\n",
        "Nominal. Cause of the food poisoning. One of “vegetable”, “meat”\n",
        "or “unknown”.\n",
        "\n",
        "\n",
        "Replace missing values with ‘unknown’."
      ],
      "metadata": {
        "id": "ec6RtjrwkjhC"
      },
      "id": "ec6RtjrwkjhC"
    },
    {
      "source": [
        "#Not unique values\n",
        "\n",
        "df['cause'].unique()"
      ],
      "metadata": {
        "executionTime": 55,
        "lastSuccessfullyExecutedCode": "df['cause'].unique()",
        "colab": {
          "base_uri": "https://localhost:8080/"
        },
        "id": "9ddb02a2-253c-459f-bae7-79d23befeb7d",
        "outputId": "51672efd-43a3-4a62-a934-15070114ab60"
      },
      "cell_type": "code",
      "id": "9ddb02a2-253c-459f-bae7-79d23befeb7d",
      "execution_count": null,
      "outputs": [
        {
          "output_type": "execute_result",
          "data": {
            "text/plain": [
              "array(['unknown', 'meat', 'vegetable', ' Meat', 'VEGETABLES'],\n",
              "      dtype=object)"
            ]
          },
          "metadata": {},
          "execution_count": 609
        }
      ]
    },
    {
      "cell_type": "code",
      "source": [
        "#Leaving only one of “vegetable”, “meat” or “unknown”.\n",
        "\n",
        "df['cause'] = df['cause'].replace({' Meat':'meat','VEGETABLES':'vegetable'})"
      ],
      "metadata": {
        "id": "5m7Zl4bCq8yw"
      },
      "id": "5m7Zl4bCq8yw",
      "execution_count": null,
      "outputs": []
    },
    {
      "cell_type": "code",
      "source": [
        "#Unique values\n",
        "\n",
        "df['cause'].unique()"
      ],
      "metadata": {
        "colab": {
          "base_uri": "https://localhost:8080/"
        },
        "id": "NpotN6Zkq9KR",
        "outputId": "c2d569a8-5d9b-44e6-cea1-b14c9b98bc8d"
      },
      "id": "NpotN6Zkq9KR",
      "execution_count": null,
      "outputs": [
        {
          "output_type": "execute_result",
          "data": {
            "text/plain": [
              "array(['unknown', 'meat', 'vegetable'], dtype=object)"
            ]
          },
          "metadata": {},
          "execution_count": 611
        }
      ]
    },
    {
      "cell_type": "code",
      "source": [
        "sns.countplot(x='cause', data=df)\n",
        "plt.show()"
      ],
      "metadata": {
        "colab": {
          "base_uri": "https://localhost:8080/",
          "height": 453
        },
        "id": "2eKBiT2_rkD6",
        "outputId": "0d835f51-f3ce-4e07-bbd3-a6dfa439e44d"
      },
      "id": "2eKBiT2_rkD6",
      "execution_count": null,
      "outputs": [
        {
          "output_type": "display_data",
          "data": {
            "text/plain": [
              "<Figure size 640x480 with 1 Axes>"
            ],
            "image/png": "[encoded data removed]"
          },
          "metadata": {}
        }
      ]
    },
    {
      "cell_type": "markdown",
      "source": [
        "### Confirmation of no missing values\n",
        "\n"
      ],
      "metadata": {
        "id": "dUbj8F6bruWd"
      },
      "id": "dUbj8F6bruWd"
    },
    {
      "source": [
        "#No missing values\n",
        "\n",
        "df.isnull().sum()\n"
      ],
      "metadata": {
        "executionTime": 55,
        "lastSuccessfullyExecutedCode": "df['linked_cases'].unique()",
        "colab": {
          "base_uri": "https://localhost:8080/"
        },
        "id": "7f960642-2360-4365-95eb-438aea838a5f",
        "outputId": "7612b6ee-24a4-4b06-e656-545917d39e3c"
      },
      "cell_type": "code",
      "id": "7f960642-2360-4365-95eb-438aea838a5f",
      "execution_count": null,
      "outputs": [
        {
          "output_type": "execute_result",
          "data": {
            "text/plain": [
              "claim_id                0\n",
              "time_to_close           0\n",
              "claim_amount            0\n",
              "amount_paid             0\n",
              "location                0\n",
              "individuals_on_claim    0\n",
              "linked_cases            0\n",
              "cause                   0\n",
              "dtype: int64"
            ]
          },
          "metadata": {},
          "execution_count": 613
        }
      ]
    },
    {
      "cell_type": "code",
      "source": [
        "#No missing values\n",
        "\n",
        "df.isna().sum()\n"
      ],
      "metadata": {
        "colab": {
          "base_uri": "https://localhost:8080/"
        },
        "id": "-y6UWBKlmYNs",
        "outputId": "7e024c7f-a220-4277-e385-ae396c8d6ada"
      },
      "id": "-y6UWBKlmYNs",
      "execution_count": null,
      "outputs": [
        {
          "output_type": "execute_result",
          "data": {
            "text/plain": [
              "claim_id                0\n",
              "time_to_close           0\n",
              "claim_amount            0\n",
              "amount_paid             0\n",
              "location                0\n",
              "individuals_on_claim    0\n",
              "linked_cases            0\n",
              "cause                   0\n",
              "dtype: int64"
            ]
          },
          "metadata": {},
          "execution_count": 614
        }
      ]
    },
    {
      "cell_type": "markdown",
      "source": [
        "### Analysis ready data"
      ],
      "metadata": {
        "id": "RP7i7KBBtrlQ"
      },
      "id": "RP7i7KBBtrlQ"
    },
    {
      "cell_type": "code",
      "source": [
        "print(df.head(15))"
      ],
      "metadata": {
        "colab": {
          "base_uri": "https://localhost:8080/"
        },
        "id": "3S0-TmPCuBX_",
        "outputId": "36717ecb-4349-4ff2-f13a-ea6cd3995ff5"
      },
      "id": "3S0-TmPCuBX_",
      "execution_count": null,
      "outputs": [
        {
          "output_type": "stream",
          "name": "stdout",
          "text": [
            "    claim_id  time_to_close  claim_amount  amount_paid   location  \\\n",
            "0          1            317      74474.55     51231.37     RECIFE   \n",
            "1          2            195      52137.83     42111.30  FORTALEZA   \n",
            "2          3            183      24447.20     23986.30   SAO LUIS   \n",
            "3          4            186      29006.28     27942.72  FORTALEZA   \n",
            "4          5            138      19520.60     16251.06     RECIFE   \n",
            "5          6            183      47529.14     38011.98      NATAL   \n",
            "6          7            190      39073.26     29826.04   SAO LUIS   \n",
            "7          8            183      29870.56     29727.52   SAO LUIS   \n",
            "8          9            149      26644.46     23362.14     RECIFE   \n",
            "9         10            149      11544.68      9680.82      NATAL   \n",
            "10        11            180      31002.60     27110.18   SAO LUIS   \n",
            "11        12            208      29802.86     26505.06   SAO LUIS   \n",
            "12        13            175      23831.65     17145.09   SAO LUIS   \n",
            "13        14            223      42626.53     31053.01     RECIFE   \n",
            "14        15            265      36210.84     24847.68      NATAL   \n",
            "\n",
            "    individuals_on_claim  linked_cases      cause  \n",
            "0                     15         False    unknown  \n",
            "1                     12          True    unknown  \n",
            "2                     10          True       meat  \n",
            "3                     11         False       meat  \n",
            "4                     11         False  vegetable  \n",
            "5                     11         False    unknown  \n",
            "6                     12         False       meat  \n",
            "7                      8          True    unknown  \n",
            "8                      9         False       meat  \n",
            "9                      6         False  vegetable  \n",
            "10                     8         False    unknown  \n",
            "11                     8         False    unknown  \n",
            "12                     7         False       meat  \n",
            "13                    12         False       meat  \n",
            "14                    10         False       meat  \n"
          ]
        }
      ]
    },
    {
      "cell_type": "code",
      "source": [
        "df.info()"
      ],
      "metadata": {
        "colab": {
          "base_uri": "https://localhost:8080/"
        },
        "id": "8Lp2oN4vtwE2",
        "outputId": "63b0a2f1-2b7a-42fb-dc4c-141374195027"
      },
      "id": "8Lp2oN4vtwE2",
      "execution_count": null,
      "outputs": [
        {
          "output_type": "stream",
          "name": "stdout",
          "text": [
            "<class 'pandas.core.frame.DataFrame'>\n",
            "RangeIndex: 2000 entries, 0 to 1999\n",
            "Data columns (total 8 columns):\n",
            " #   Column                Non-Null Count  Dtype  \n",
            "---  ------                --------------  -----  \n",
            " 0   claim_id              2000 non-null   int64  \n",
            " 1   time_to_close         2000 non-null   int64  \n",
            " 2   claim_amount          2000 non-null   float64\n",
            " 3   amount_paid           2000 non-null   float64\n",
            " 4   location              2000 non-null   object \n",
            " 5   individuals_on_claim  2000 non-null   int64  \n",
            " 6   linked_cases          2000 non-null   bool   \n",
            " 7   cause                 2000 non-null   object \n",
            "dtypes: bool(1), float64(2), int64(3), object(2)\n",
            "memory usage: 111.5+ KB\n"
          ]
        }
      ]
    },
    {
      "cell_type": "code",
      "source": [
        "df.describe()"
      ],
      "metadata": {
        "colab": {
          "base_uri": "https://localhost:8080/",
          "height": 300
        },
        "id": "jhGXCdkRtw6w",
        "outputId": "c744a1e5-3ead-4f10-d437-f02d1de49eeb"
      },
      "id": "jhGXCdkRtw6w",
      "execution_count": null,
      "outputs": [
        {
          "output_type": "execute_result",
          "data": {
            "text/plain": [
              "          claim_id  time_to_close  claim_amount   amount_paid  \\\n",
              "count  2000.000000     2000.00000   2000.000000   2000.000000   \n",
              "mean   1000.500000      185.56800  27156.965235  21516.122230   \n",
              "std     577.494589       49.16339  16195.783099  12418.285043   \n",
              "min       1.000000       76.00000   1637.940000   1516.720000   \n",
              "25%     500.750000      158.00000  13758.952500  11106.652500   \n",
              "50%    1000.500000      179.00000  24821.085000  20105.700000   \n",
              "75%    1500.250000      204.00000  38581.350000  30472.895000   \n",
              "max    2000.000000      518.00000  76106.800000  52498.750000   \n",
              "\n",
              "       individuals_on_claim  \n",
              "count           2000.000000  \n",
              "mean               8.049500  \n",
              "std                4.087347  \n",
              "min                1.000000  \n",
              "25%                4.000000  \n",
              "50%                8.000000  \n",
              "75%               12.000000  \n",
              "max               15.000000  "
            ],
            "text/html": [
              "\n",
              "  <div id=\"df-100ff9a1-73ed-48dd-ac2a-827e1ca9a6b4\">\n",
              "    <div class=\"colab-df-container\">\n",
              "      <div>\n",
              "<style scoped>\n",
              "    .dataframe tbody tr th:only-of-type {\n",
              "        vertical-align: middle;\n",
              "    }\n",
              "\n",
              "    .dataframe tbody tr th {\n",
              "        vertical-align: top;\n",
              "    }\n",
              "\n",
              "    .dataframe thead th {\n",
              "        text-align: right;\n",
              "    }\n",
              "</style>\n",
              "<table border=\"1\" class=\"dataframe\">\n",
              "  <thead>\n",
              "    <tr style=\"text-align: right;\">\n",
              "      <th></th>\n",
              "      <th>claim_id</th>\n",
              "      <th>time_to_close</th>\n",
              "      <th>claim_amount</th>\n",
              "      <th>amount_paid</th>\n",
              "      <th>individuals_on_claim</th>\n",
              "    </tr>\n",
              "  </thead>\n",
              "  <tbody>\n",
              "    <tr>\n",
              "      <th>count</th>\n",
              "      <td>2000.000000</td>\n",
              "      <td>2000.00000</td>\n",
              "      <td>2000.000000</td>\n",
              "      <td>2000.000000</td>\n",
              "      <td>2000.000000</td>\n",
              "    </tr>\n",
              "    <tr>\n",
              "      <th>mean</th>\n",
              "      <td>1000.500000</td>\n",
              "      <td>185.56800</td>\n",
              "      <td>27156.965235</td>\n",
              "      <td>21516.122230</td>\n",
              "      <td>8.049500</td>\n",
              "    </tr>\n",
              "    <tr>\n",
              "      <th>std</th>\n",
              "      <td>577.494589</td>\n",
              "      <td>49.16339</td>\n",
              "      <td>16195.783099</td>\n",
              "      <td>12418.285043</td>\n",
              "      <td>4.087347</td>\n",
              "    </tr>\n",
              "    <tr>\n",
              "      <th>min</th>\n",
              "      <td>1.000000</td>\n",
              "      <td>76.00000</td>\n",
              "      <td>1637.940000</td>\n",
              "      <td>1516.720000</td>\n",
              "      <td>1.000000</td>\n",
              "    </tr>\n",
              "    <tr>\n",
              "      <th>25%</th>\n",
              "      <td>500.750000</td>\n",
              "      <td>158.00000</td>\n",
              "      <td>13758.952500</td>\n",
              "      <td>11106.652500</td>\n",
              "      <td>4.000000</td>\n",
              "    </tr>\n",
              "    <tr>\n",
              "      <th>50%</th>\n",
              "      <td>1000.500000</td>\n",
              "      <td>179.00000</td>\n",
              "      <td>24821.085000</td>\n",
              "      <td>20105.700000</td>\n",
              "      <td>8.000000</td>\n",
              "    </tr>\n",
              "    <tr>\n",
              "      <th>75%</th>\n",
              "      <td>1500.250000</td>\n",
              "      <td>204.00000</td>\n",
              "      <td>38581.350000</td>\n",
              "      <td>30472.895000</td>\n",
              "      <td>12.000000</td>\n",
              "    </tr>\n",
              "    <tr>\n",
              "      <th>max</th>\n",
              "      <td>2000.000000</td>\n",
              "      <td>518.00000</td>\n",
              "      <td>76106.800000</td>\n",
              "      <td>52498.750000</td>\n",
              "      <td>15.000000</td>\n",
              "    </tr>\n",
              "  </tbody>\n",
              "</table>\n",
              "</div>\n",
              "      <button class=\"colab-df-convert\" onclick=\"convertToInteractive('df-100ff9a1-73ed-48dd-ac2a-827e1ca9a6b4')\"\n",
              "              title=\"Convert this dataframe to an interactive table.\"\n",
              "              style=\"display:none;\">\n",
              "        \n",
              "  <svg xmlns=\"http://www.w3.org/2000/svg\" height=\"24px\"viewBox=\"0 0 24 24\"\n",
              "       width=\"24px\">\n",
              "    <path d=\"M0 0h24v24H0V0z\" fill=\"none\"/>\n",
              "    <path d=\"M18.56 5.44l.94 2.06.94-2.06 2.06-.94-2.06-.94-.94-2.06-.94 2.06-2.06.94zm-11 1L8.5 8.5l.94-2.06 2.06-.94-2.06-.94L8.5 2.5l-.94 2.06-2.06.94zm10 10l.94 2.06.94-2.06 2.06-.94-2.06-.94-.94-2.06-.94 2.06-2.06.94z\"/><path d=\"M17.41 7.96l-1.37-1.37c-.4-.4-.92-.59-1.43-.59-.52 0-1.04.2-1.43.59L10.3 9.45l-7.72 7.72c-.78.78-.78 2.05 0 2.83L4 21.41c.39.39.9.59 1.41.59.51 0 1.02-.2 1.41-.59l7.78-7.78 2.81-2.81c.8-.78.8-2.07 0-2.86zM5.41 20L4 18.59l7.72-7.72 1.47 1.35L5.41 20z\"/>\n",
              "  </svg>\n",
              "      </button>\n",
              "      \n",
              "  <style>\n",
              "    .colab-df-container {\n",
              "      display:flex;\n",
              "      flex-wrap:wrap;\n",
              "      gap: 12px;\n",
              "    }\n",
              "\n",
              "    .colab-df-convert {\n",
              "      background-color: #E8F0FE;\n",
              "      border: none;\n",
              "      border-radius: 50%;\n",
              "      cursor: pointer;\n",
              "      display: none;\n",
              "      fill: #1967D2;\n",
              "      height: 32px;\n",
              "      padding: 0 0 0 0;\n",
              "      width: 32px;\n",
              "    }\n",
              "\n",
              "    .colab-df-convert:hover {\n",
              "      background-color: #E2EBFA;\n",
              "      box-shadow: 0px 1px 2px rgba(60, 64, 67, 0.3), 0px 1px 3px 1px rgba(60, 64, 67, 0.15);\n",
              "      fill: #174EA6;\n",
              "    }\n",
              "\n",
              "    [theme=dark] .colab-df-convert {\n",
              "      background-color: #3B4455;\n",
              "      fill: #D2E3FC;\n",
              "    }\n",
              "\n",
              "    [theme=dark] .colab-df-convert:hover {\n",
              "      background-color: #434B5C;\n",
              "      box-shadow: 0px 1px 3px 1px rgba(0, 0, 0, 0.15);\n",
              "      filter: drop-shadow(0px 1px 2px rgba(0, 0, 0, 0.3));\n",
              "      fill: #FFFFFF;\n",
              "    }\n",
              "  </style>\n",
              "\n",
              "      <script>\n",
              "        const buttonEl =\n",
              "          document.querySelector('#df-100ff9a1-73ed-48dd-ac2a-827e1ca9a6b4 button.colab-df-convert');\n",
              "        buttonEl.style.display =\n",
              "          google.colab.kernel.accessAllowed ? 'block' : 'none';\n",
              "\n",
              "        async function convertToInteractive(key) {\n",
              "          const element = document.querySelector('#df-100ff9a1-73ed-48dd-ac2a-827e1ca9a6b4');\n",
              "          const dataTable =\n",
              "            await google.colab.kernel.invokeFunction('convertToInteractive',\n",
              "                                                     [key], {});\n",
              "          if (!dataTable) return;\n",
              "\n",
              "          const docLinkHtml = 'Like what you see? Visit the ' +\n",
              "            '<a target=\"_blank\" href=https://colab.research.google.com/notebooks/data_table.ipynb>data table notebook</a>'\n",
              "            + ' to learn more about interactive tables.';\n",
              "          element.innerHTML = '';\n",
              "          dataTable['output_type'] = 'display_data';\n",
              "          await google.colab.output.renderOutput(dataTable, element);\n",
              "          const docLink = document.createElement('div');\n",
              "          docLink.innerHTML = docLinkHtml;\n",
              "          element.appendChild(docLink);\n",
              "        }\n",
              "      </script>\n",
              "    </div>\n",
              "  </div>\n",
              "  "
            ]
          },
          "metadata": {},
          "execution_count": 617
        }
      ]
    },
    {
      "cell_type": "markdown",
      "source": [
        "The original data is 2000 rows and 8 columns. The first thing I did was to load the data and create a data frame. I checked the data and write my description of each column according to the data set instructions.\n",
        "\n",
        "Columns:\n",
        "\n",
        "- claim_id : Same as description without missing values, 2000 entries.\n",
        "- time_to_close : Same as description without missing values, not necessary to replace values, all positive numbers.\n",
        "- claim_amount : Without missing values, replace values R$ in order to convert in float and left only 2 decimals rounded.\n",
        "- amount_paid : 36 missing values , they were replaced with overall median amount paid.\n",
        "- location : Same as description without missing values, 4 Unique values ( “RECIFE”, “SAO LUIS”, “FORTALEZA”, or “NATAL”.)\n",
        "- individuals_on_claim : Same as description without missing values and no 0 values.\n",
        "- linked_cases : Boolean values 26 missing values unique values (False or True).\n",
        "- cause : Not missing values but not clean, i replace some values in order to leave only 3 unique values (“vegetable”, “meat” or “unknown”.)"
      ],
      "metadata": {
        "id": "TzyLG5-dw4_y"
      },
      "id": "TzyLG5-dw4_y"
    },
    {
      "source": [
        "## Task 2"
      ],
      "metadata": {
        "id": "643d4c36-4183-4fbe-a263-6b9de60d29da"
      },
      "id": "643d4c36-4183-4fbe-a263-6b9de60d29da",
      "cell_type": "markdown"
    },
    {
      "source": [
        "Create a visualization that shows the number of claims in each location. Use the visualization to:\n",
        "\n",
        "a. State which category of the variable location has the most observations\n",
        "\n",
        "\n",
        "b. Explain whether the observations are balanced across categories of the variable location\n"
      ],
      "metadata": {
        "id": "f57e439d-871a-4318-8eb4-22b4a9fe7405"
      },
      "cell_type": "markdown",
      "id": "f57e439d-871a-4318-8eb4-22b4a9fe7405"
    },
    {
      "source": [
        "\n",
        "There are four possible locations included in this data, the location with more claims is RECIFE according with the barplot it has more observations. This would suggest that the team should focus on the claims ocurred in RECIFE.\n"
      ],
      "metadata": {
        "id": "a62b5c35-299b-49c7-b747-62b0ac3d233b"
      },
      "cell_type": "markdown",
      "id": "a62b5c35-299b-49c7-b747-62b0ac3d233b"
    },
    {
      "source": [
        "According with the data, the observations are not balanced. A 44.20% of the claims come from RECIFE a big difference in comparison with the other 3 locations."
      ],
      "metadata": {
        "id": "ebe66733-2717-4371-aad4-f66758b6eeac"
      },
      "cell_type": "markdown",
      "id": "ebe66733-2717-4371-aad4-f66758b6eeac"
    },
    {
      "source": [
        "### Exploratory Analysis"
      ],
      "metadata": {
        "id": "f05e8ac5-d3a9-4865-a208-8bcbd5cf0e14"
      },
      "cell_type": "markdown",
      "id": "f05e8ac5-d3a9-4865-a208-8bcbd5cf0e14"
    },
    {
      "source": [
        "df_location = df.groupby('location')['claim_id'].count().reset_index()\n",
        "print(df_location)"
      ],
      "metadata": {
        "executionTime": 36,
        "lastSuccessfullyExecutedCode": "df_location = df.groupby('location')['claim_id'].count().reset_index()\nprint(df_location)",
        "colab": {
          "base_uri": "https://localhost:8080/"
        },
        "id": "b3491440-ff87-498f-b49d-7422c493044b",
        "outputId": "12d177eb-66da-4304-8096-1b8ee475e886"
      },
      "cell_type": "code",
      "id": "b3491440-ff87-498f-b49d-7422c493044b",
      "execution_count": null,
      "outputs": [
        {
          "output_type": "stream",
          "name": "stdout",
          "text": [
            "    location  claim_id\n",
            "0  FORTALEZA       311\n",
            "1      NATAL       287\n",
            "2     RECIFE       885\n",
            "3   SAO LUIS       517\n"
          ]
        }
      ]
    },
    {
      "source": [
        "sns.barplot(x='location', y='claim_id', data=df_location, ci=None)\n",
        "plt.show()"
      ],
      "metadata": {
        "executionTime": 54,
        "lastSuccessfullyExecutedCode": "sns.barplot(x='location', y='claim_id', data=df_location, ci=None)\nplt.show()",
        "colab": {
          "base_uri": "https://localhost:8080/",
          "height": 536
        },
        "id": "b0f28e1c-bcf1-4a38-a255-03d0d70d7989",
        "outputId": "d92d6a87-9290-49fc-cb1b-42b8e6357b64"
      },
      "cell_type": "code",
      "id": "b0f28e1c-bcf1-4a38-a255-03d0d70d7989",
      "execution_count": null,
      "outputs": [
        {
          "output_type": "stream",
          "name": "stderr",
          "text": [
            "<ipython-input-619-79b62d21419d>:1: FutureWarning: \n",
            "\n",
            "The `ci` parameter is deprecated. Use `errorbar=None` for the same effect.\n",
            "\n",
            "  sns.barplot(x='location', y='claim_id', data=df_location, ci=None)\n"
          ]
        },
        {
          "output_type": "display_data",
          "data": {
            "text/plain": [
              "<Figure size 640x480 with 1 Axes>"
            ],
            "image/png": "[encoded data removed]"
          },
          "metadata": {}
        }
      ]
    },
    {
      "source": [
        "#Pie Chart\n",
        "fig, ax = plt.subplots()\n",
        "ax.pie(df_location['claim_id'], labels=df_location['location'], autopct='%1.1f%%', startangle=90)\n",
        "ax.set_title(\"Pie Chart number of claims in each location\")\n",
        "plt.show()"
      ],
      "metadata": {
        "executionTime": 129,
        "lastSuccessfullyExecutedCode": "#Pie Chart\nfig, ax = plt.subplots()\nax.pie(df_location['claim_id'], labels=df_location['location'], autopct='%1.1f%%', startangle=90)\nax.set_title(\"Pie Chart number of claims in each location\")\nplt.show()",
        "colab": {
          "base_uri": "https://localhost:8080/",
          "height": 428
        },
        "id": "c4ff0d82-93d2-40ef-bf31-46535edd7e57",
        "outputId": "a7aa6510-68ac-4c7e-da2b-afaedd03cb43"
      },
      "cell_type": "code",
      "id": "c4ff0d82-93d2-40ef-bf31-46535edd7e57",
      "execution_count": null,
      "outputs": [
        {
          "output_type": "display_data",
          "data": {
            "text/plain": [
              "<Figure size 640x480 with 1 Axes>"
            ],
            "image/png": "[encoded data removed]"
          },
          "metadata": {}
        }
      ]
    },
    {
      "source": [
        "## Task 3"
      ],
      "metadata": {
        "id": "ce5f6df2-fbf2-4c44-9209-9ee668876b53"
      },
      "id": "ce5f6df2-fbf2-4c44-9209-9ee668876b53",
      "cell_type": "markdown"
    },
    {
      "source": [
        "Describe the distribution of time to close for all claims. Your answer must include a visualization that shows the distribution.\n"
      ],
      "metadata": {
        "id": "b6c35921-87bd-43d4-8302-88371355bd16"
      },
      "cell_type": "markdown",
      "id": "b6c35921-87bd-43d4-8302-88371355bd16"
    },
    {
      "source": [
        "As the legal team thinks the time to close claims it´s important, we should look at how many days takes to close claims is distributed.\n",
        "\n",
        "Looking at the histogram and the boxplot, we can see that most of the observations have around 185 days.There are some outliers that get more than 500 days but this is very uncommon. The minimum days are 76 and the median is 179."
      ],
      "metadata": {
        "id": "483df19e-82da-468a-baae-876d26c4f4e8"
      },
      "cell_type": "markdown",
      "id": "483df19e-82da-468a-baae-876d26c4f4e8"
    },
    {
      "source": [
        "#Histogram\n",
        "\n",
        "plt.hist(df['time_to_close'], bins=30)\n",
        "\n",
        "plt.xlabel('time_to_close')\n",
        "plt.title('Distribution of time to close')\n",
        "\n",
        "plt.show()"
      ],
      "metadata": {
        "executionTime": 82,
        "lastSuccessfullyExecutedCode": "#Histogram\n\nplt.hist(df['time_to_close'], bins=30)\n\nplt.xlabel('time_to_close')\nplt.title('Distribution of time to close')\n\nplt.show()",
        "colab": {
          "base_uri": "https://localhost:8080/",
          "height": 472
        },
        "id": "8d86b7b0-a44a-4b78-897e-d4bf16913017",
        "outputId": "45906f38-9c70-4032-90ed-cb7d25c90e97"
      },
      "cell_type": "code",
      "id": "8d86b7b0-a44a-4b78-897e-d4bf16913017",
      "execution_count": null,
      "outputs": [
        {
          "output_type": "display_data",
          "data": {
            "text/plain": [
              "<Figure size 640x480 with 1 Axes>"
            ],
            "image/png": "[encoded data removed]"
          },
          "metadata": {}
        }
      ]
    },
    {
      "source": [
        "#BoxPlot\n",
        "\n",
        "sns.boxplot(data=df['time_to_close'])\n",
        "\n",
        "plt.xlabel('time_to_close')\n",
        "plt.title('Boxplot time_to_close')\n",
        "\n",
        "plt.show()"
      ],
      "metadata": {
        "executionTime": 69,
        "lastSuccessfullyExecutedCode": "#BoxPlot\n\nsns.boxplot(data=df['time_to_close'])\n\nplt.xlabel('time_to_close')\nplt.title('Boxplot time_to_close')\n\nplt.show()",
        "colab": {
          "base_uri": "https://localhost:8080/",
          "height": 472
        },
        "id": "1b82268e-139f-4c2b-9c0f-0a5c295dc58e",
        "outputId": "17d5a9aa-7e9d-47bd-8ce8-2756d17b426a"
      },
      "cell_type": "code",
      "id": "1b82268e-139f-4c2b-9c0f-0a5c295dc58e",
      "execution_count": null,
      "outputs": [
        {
          "output_type": "display_data",
          "data": {
            "text/plain": [
              "<Figure size 640x480 with 1 Axes>"
            ],
            "image/png": "[encoded data removed]"
          },
          "metadata": {}
        }
      ]
    },
    {
      "source": [
        "## Task 4"
      ],
      "metadata": {
        "id": "c5fbe3a0-d277-437c-a1a0-f1edf80684f7"
      },
      "id": "c5fbe3a0-d277-437c-a1a0-f1edf80684f7",
      "cell_type": "markdown"
    },
    {
      "source": [
        "Describe the relationship between time to close and location. Your answer must include a visualization to demonstrate the relationship."
      ],
      "metadata": {
        "id": "f0c42f58-2a1a-45d9-b314-5eb885d8cff0"
      },
      "cell_type": "markdown",
      "id": "f0c42f58-2a1a-45d9-b314-5eb885d8cff0"
    },
    {
      "source": [
        "Finally we combine two pieces of information to see how the location impacts number of days that take to close claims.\n",
        "\n",
        "So far there is no a big difference between the locations and the time to claim variabe. The four locations have a pretty similar mean and median. In the graphics below you can see that there are some outlier especialy in SAO LUIS and FORTALEZA."
      ],
      "metadata": {
        "id": "a619f5e8-5fe0-4640-9306-01c091b040d4"
      },
      "cell_type": "markdown",
      "id": "a619f5e8-5fe0-4640-9306-01c091b040d4"
    },
    {
      "source": [
        "df_location_time = df.groupby('location')['time_to_close']\n",
        "df_location_time.describe()"
      ],
      "metadata": {
        "executionTime": 103,
        "lastSuccessfullyExecutedCode": "df_location_time = df.groupby('location')['time_to_close']\ndf_location_time.describe()",
        "colab": {
          "base_uri": "https://localhost:8080/",
          "height": 206
        },
        "id": "f60ac634-7c51-48d5-bae3-e09de49fcd26",
        "outputId": "1e3833a3-839a-4217-8cf6-6a60dcf7a5c7"
      },
      "cell_type": "code",
      "id": "f60ac634-7c51-48d5-bae3-e09de49fcd26",
      "execution_count": null,
      "outputs": [
        {
          "output_type": "execute_result",
          "data": {
            "text/plain": [
              "           count        mean        std   min    25%    50%    75%    max\n",
              "location                                                                 \n",
              "FORTALEZA  311.0  185.305466  47.583000  76.0  157.0  180.0  205.5  453.0\n",
              "NATAL      287.0  185.926829  47.059160  93.0  157.0  179.0  205.5  361.0\n",
              "RECIFE     885.0  184.607910  48.013254  82.0  157.0  178.0  203.0  427.0\n",
              "SAO LUIS   517.0  187.170213  53.126094  84.0  161.0  179.0  205.0  518.0"
            ],
            "text/html": [
              "\n",
              "  <div id=\"df-027f541f-1c6a-4231-990d-40fb29777e4e\">\n",
              "    <div class=\"colab-df-container\">\n",
              "      <div>\n",
              "<style scoped>\n",
              "    .dataframe tbody tr th:only-of-type {\n",
              "        vertical-align: middle;\n",
              "    }\n",
              "\n",
              "    .dataframe tbody tr th {\n",
              "        vertical-align: top;\n",
              "    }\n",
              "\n",
              "    .dataframe thead th {\n",
              "        text-align: right;\n",
              "    }\n",
              "</style>\n",
              "<table border=\"1\" class=\"dataframe\">\n",
              "  <thead>\n",
              "    <tr style=\"text-align: right;\">\n",
              "      <th></th>\n",
              "      <th>count</th>\n",
              "      <th>mean</th>\n",
              "      <th>std</th>\n",
              "      <th>min</th>\n",
              "      <th>25%</th>\n",
              "      <th>50%</th>\n",
              "      <th>75%</th>\n",
              "      <th>max</th>\n",
              "    </tr>\n",
              "    <tr>\n",
              "      <th>location</th>\n",
              "      <th></th>\n",
              "      <th></th>\n",
              "      <th></th>\n",
              "      <th></th>\n",
              "      <th></th>\n",
              "      <th></th>\n",
              "      <th></th>\n",
              "      <th></th>\n",
              "    </tr>\n",
              "  </thead>\n",
              "  <tbody>\n",
              "    <tr>\n",
              "      <th>FORTALEZA</th>\n",
              "      <td>311.0</td>\n",
              "      <td>185.305466</td>\n",
              "      <td>47.583000</td>\n",
              "      <td>76.0</td>\n",
              "      <td>157.0</td>\n",
              "      <td>180.0</td>\n",
              "      <td>205.5</td>\n",
              "      <td>453.0</td>\n",
              "    </tr>\n",
              "    <tr>\n",
              "      <th>NATAL</th>\n",
              "      <td>287.0</td>\n",
              "      <td>185.926829</td>\n",
              "      <td>47.059160</td>\n",
              "      <td>93.0</td>\n",
              "      <td>157.0</td>\n",
              "      <td>179.0</td>\n",
              "      <td>205.5</td>\n",
              "      <td>361.0</td>\n",
              "    </tr>\n",
              "    <tr>\n",
              "      <th>RECIFE</th>\n",
              "      <td>885.0</td>\n",
              "      <td>184.607910</td>\n",
              "      <td>48.013254</td>\n",
              "      <td>82.0</td>\n",
              "      <td>157.0</td>\n",
              "      <td>178.0</td>\n",
              "      <td>203.0</td>\n",
              "      <td>427.0</td>\n",
              "    </tr>\n",
              "    <tr>\n",
              "      <th>SAO LUIS</th>\n",
              "      <td>517.0</td>\n",
              "      <td>187.170213</td>\n",
              "      <td>53.126094</td>\n",
              "      <td>84.0</td>\n",
              "      <td>161.0</td>\n",
              "      <td>179.0</td>\n",
              "      <td>205.0</td>\n",
              "      <td>518.0</td>\n",
              "    </tr>\n",
              "  </tbody>\n",
              "</table>\n",
              "</div>\n",
              "      <button class=\"colab-df-convert\" onclick=\"convertToInteractive('df-027f541f-1c6a-4231-990d-40fb29777e4e')\"\n",
              "              title=\"Convert this dataframe to an interactive table.\"\n",
              "              style=\"display:none;\">\n",
              "        \n",
              "  <svg xmlns=\"http://www.w3.org/2000/svg\" height=\"24px\"viewBox=\"0 0 24 24\"\n",
              "       width=\"24px\">\n",
              "    <path d=\"M0 0h24v24H0V0z\" fill=\"none\"/>\n",
              "    <path d=\"M18.56 5.44l.94 2.06.94-2.06 2.06-.94-2.06-.94-.94-2.06-.94 2.06-2.06.94zm-11 1L8.5 8.5l.94-2.06 2.06-.94-2.06-.94L8.5 2.5l-.94 2.06-2.06.94zm10 10l.94 2.06.94-2.06 2.06-.94-2.06-.94-.94-2.06-.94 2.06-2.06.94z\"/><path d=\"M17.41 7.96l-1.37-1.37c-.4-.4-.92-.59-1.43-.59-.52 0-1.04.2-1.43.59L10.3 9.45l-7.72 7.72c-.78.78-.78 2.05 0 2.83L4 21.41c.39.39.9.59 1.41.59.51 0 1.02-.2 1.41-.59l7.78-7.78 2.81-2.81c.8-.78.8-2.07 0-2.86zM5.41 20L4 18.59l7.72-7.72 1.47 1.35L5.41 20z\"/>\n",
              "  </svg>\n",
              "      </button>\n",
              "      \n",
              "  <style>\n",
              "    .colab-df-container {\n",
              "      display:flex;\n",
              "      flex-wrap:wrap;\n",
              "      gap: 12px;\n",
              "    }\n",
              "\n",
              "    .colab-df-convert {\n",
              "      background-color: #E8F0FE;\n",
              "      border: none;\n",
              "      border-radius: 50%;\n",
              "      cursor: pointer;\n",
              "      display: none;\n",
              "      fill: #1967D2;\n",
              "      height: 32px;\n",
              "      padding: 0 0 0 0;\n",
              "      width: 32px;\n",
              "    }\n",
              "\n",
              "    .colab-df-convert:hover {\n",
              "      background-color: #E2EBFA;\n",
              "      box-shadow: 0px 1px 2px rgba(60, 64, 67, 0.3), 0px 1px 3px 1px rgba(60, 64, 67, 0.15);\n",
              "      fill: #174EA6;\n",
              "    }\n",
              "\n",
              "    [theme=dark] .colab-df-convert {\n",
              "      background-color: #3B4455;\n",
              "      fill: #D2E3FC;\n",
              "    }\n",
              "\n",
              "    [theme=dark] .colab-df-convert:hover {\n",
              "      background-color: #434B5C;\n",
              "      box-shadow: 0px 1px 3px 1px rgba(0, 0, 0, 0.15);\n",
              "      filter: drop-shadow(0px 1px 2px rgba(0, 0, 0, 0.3));\n",
              "      fill: #FFFFFF;\n",
              "    }\n",
              "  </style>\n",
              "\n",
              "      <script>\n",
              "        const buttonEl =\n",
              "          document.querySelector('#df-027f541f-1c6a-4231-990d-40fb29777e4e button.colab-df-convert');\n",
              "        buttonEl.style.display =\n",
              "          google.colab.kernel.accessAllowed ? 'block' : 'none';\n",
              "\n",
              "        async function convertToInteractive(key) {\n",
              "          const element = document.querySelector('#df-027f541f-1c6a-4231-990d-40fb29777e4e');\n",
              "          const dataTable =\n",
              "            await google.colab.kernel.invokeFunction('convertToInteractive',\n",
              "                                                     [key], {});\n",
              "          if (!dataTable) return;\n",
              "\n",
              "          const docLinkHtml = 'Like what you see? Visit the ' +\n",
              "            '<a target=\"_blank\" href=https://colab.research.google.com/notebooks/data_table.ipynb>data table notebook</a>'\n",
              "            + ' to learn more about interactive tables.';\n",
              "          element.innerHTML = '';\n",
              "          dataTable['output_type'] = 'display_data';\n",
              "          await google.colab.output.renderOutput(dataTable, element);\n",
              "          const docLink = document.createElement('div');\n",
              "          docLink.innerHTML = docLinkHtml;\n",
              "          element.appendChild(docLink);\n",
              "        }\n",
              "      </script>\n",
              "    </div>\n",
              "  </div>\n",
              "  "
            ]
          },
          "metadata": {},
          "execution_count": 623
        }
      ]
    },
    {
      "source": [
        "sns.scatterplot(x='location', y='time_to_close', data=df)\n",
        "\n",
        "# Agregar etiquetas de eje y título\n",
        "plt.xlabel('location')\n",
        "plt.ylabel('time_to_close')\n",
        "plt.title('Relationship between time to close and location')\n",
        "\n",
        "# Mostrar el scatterplot\n",
        "plt.show()"
      ],
      "metadata": {
        "executionTime": 35,
        "lastSuccessfullyExecutedCode": "sns.scatterplot(x='location', y='time_to_close', data=df)\n\n# Agregar etiquetas de eje y título\nplt.xlabel('location')\nplt.ylabel('time_to_close')\nplt.title('Relationship between time to close and location')\n\n# Mostrar el scatterplot\nplt.show()",
        "colab": {
          "base_uri": "https://localhost:8080/",
          "height": 472
        },
        "id": "48285f2c-0c51-4286-a06f-71f0184d79b2",
        "outputId": "10acdb56-ee25-44e7-d850-324e50faef06"
      },
      "cell_type": "code",
      "id": "48285f2c-0c51-4286-a06f-71f0184d79b2",
      "execution_count": null,
      "outputs": [
        {
          "output_type": "display_data",
          "data": {
            "text/plain": [
              "<Figure size 640x480 with 1 Axes>"
            ],
            "image/png": "[encoded data removed]"
          },
          "metadata": {}
        }
      ]
    },
    {
      "source": [
        "sns.boxplot(x='location', y='time_to_close', data=df)\n",
        "plt.show()\n"
      ],
      "metadata": {
        "executionTime": 31,
        "lastSuccessfullyExecutedCode": "sns.boxplot(x='location', y='time_to_close', data=df)\nplt.show()\n",
        "colab": {
          "base_uri": "https://localhost:8080/",
          "height": 449
        },
        "id": "de13bf62-d303-4cc9-af3a-80640b78f882",
        "outputId": "c6378ba6-d997-4926-b3ae-a2a74401f154"
      },
      "cell_type": "code",
      "id": "de13bf62-d303-4cc9-af3a-80640b78f882",
      "execution_count": null,
      "outputs": [
        {
          "output_type": "display_data",
          "data": {
            "text/plain": [
              "<Figure size 640x480 with 1 Axes>"
            ],
            "image/png": "[encoded data removed]"
          },
          "metadata": {}
        }
      ]
    },
    {
      "source": [
        "Based on all of the above, we would recommend that the leagal team focus on reducing the number of claims in RECIFE and SAO LUIS and take care of those claims that exceed the waiting time but also keeping an eye on those claims that take more than 200 days to be closed.\n",
        "\n",
        "I could suggest to check in deep the data of the cases that took less time than usual, for example less than 100 days and learn about those cases in order to apply the experience in future claims."
      ],
      "metadata": {
        "id": "0338e812-39fe-45f6-a752-07d4493b2694"
      },
      "cell_type": "markdown",
      "id": "0338e812-39fe-45f6-a752-07d4493b2694"
    },
    {
      "source": [
        "## ✅ When you have finished...\n",
        "-  Publish your Workspace using the option on the left\n",
        "-  Check the published version of your report:\n",
        "\t-  Can you see everything you want us to grade?\n",
        "    -  Are all the graphics visible?\n",
        "-  Review the grading rubric. Have you included everything that will be graded?\n",
        "-  Head back to the [Certification Dashboard](https://app.datacamp.com/certification) to submit your practical exam"
      ],
      "metadata": {
        "tags": [],
        "id": "f635131a-00f8-44dd-b610-509db41c1154"
      },
      "id": "f635131a-00f8-44dd-b610-509db41c1154",
      "cell_type": "markdown"
    },
    {
      "source": [],
      "metadata": {
        "executionTime": 0,
        "lastSuccessfullyExecutedCode": "",
        "id": "654bef27-678a-4d8d-b4dc-44c990148006"
      },
      "cell_type": "code",
      "id": "654bef27-678a-4d8d-b4dc-44c990148006",
      "execution_count": null,
      "outputs": []
    }
  ],
  "metadata": {
    "colab": {
      "provenance": [],
      "toc_visible": true
    },
    "kernelspec": {
      "display_name": "Python 3 (ipykernel)",
      "language": "python",
      "name": "python3"
    },
    "language_info": {
      "codemirror_mode": {
        "name": "ipython",
        "version": 3
      },
      "file_extension": ".py",
      "mimetype": "text/x-python",
      "name": "python",
      "nbconvert_exporter": "python",
      "pygments_lexer": "ipython3",
      "version": "3.8.10"
    }
  },
  "nbformat": 4,
  "nbformat_minor": 5
}